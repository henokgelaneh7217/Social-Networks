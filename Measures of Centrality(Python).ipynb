{
 "cells": [
  {
   "cell_type": "code",
   "execution_count": 1,
   "id": "c3c9b432",
   "metadata": {},
   "outputs": [],
   "source": [
    "import networkx as nx"
   ]
  },
  {
   "cell_type": "code",
   "execution_count": 2,
   "id": "3a67da0c",
   "metadata": {},
   "outputs": [],
   "source": [
    "T = nx.Graph()"
   ]
  },
  {
   "cell_type": "code",
   "execution_count": 3,
   "id": "e0e37fb4",
   "metadata": {},
   "outputs": [],
   "source": [
    "T.add_nodes_from(['a','b','c','d','e'])"
   ]
  },
  {
   "cell_type": "code",
   "execution_count": 4,
   "id": "ac222fd2",
   "metadata": {},
   "outputs": [],
   "source": [
    "T.add_edges_from([('a','b'),('a','d'),('a','c'),('a','e'),('b','c'),('d','e')])"
   ]
  },
  {
   "cell_type": "code",
   "execution_count": 5,
   "id": "455f677f",
   "metadata": {},
   "outputs": [
    {
     "data": {
      "image/png": "[encoded data removed]",
      "text/plain": [
       "<Figure size 432x288 with 1 Axes>"
      ]
     },
     "metadata": {},
     "output_type": "display_data"
    }
   ],
   "source": [
    "nx.draw(T,with_labels=True)"
   ]
  },
  {
   "cell_type": "code",
   "execution_count": 6,
   "id": "49be7f73",
   "metadata": {},
   "outputs": [],
   "source": [
    "sp = dict(nx.all_pairs_shortest_path(T))"
   ]
  },
  {
   "cell_type": "code",
   "execution_count": 7,
   "id": "0948c37c",
   "metadata": {},
   "outputs": [],
   "source": [
    "def Degree_Centrality(X):\n",
    "    listx = X.nodes()\n",
    "    den = len(listx)-1\n",
    "    for i in listx:\n",
    "        print('Neighbors of ',i,' are ',list(X.neighbors(i)),' \\n=Degree(',i,'):',X.degree(i))\n",
    "        dc = X.degree(i)/den\n",
    "        print('>>> Degree Centrality of ',i,' is ',dc,'\\n')"
   ]
  },
  {
   "cell_type": "code",
   "execution_count": 8,
   "id": "0730dd55",
   "metadata": {},
   "outputs": [
    {
     "name": "stdout",
     "output_type": "stream",
     "text": [
      "Neighbors of  a  are  ['b', 'd', 'c', 'e']  \n",
      "=Degree( a ): 4\n",
      ">>> Degree Centrality of  a  is  1.0 \n",
      "\n",
      "Neighbors of  b  are  ['a', 'c']  \n",
      "=Degree( b ): 2\n",
      ">>> Degree Centrality of  b  is  0.5 \n",
      "\n",
      "Neighbors of  c  are  ['a', 'b']  \n",
      "=Degree( c ): 2\n",
      ">>> Degree Centrality of  c  is  0.5 \n",
      "\n",
      "Neighbors of  d  are  ['a', 'e']  \n",
      "=Degree( d ): 2\n",
      ">>> Degree Centrality of  d  is  0.5 \n",
      "\n",
      "Neighbors of  e  are  ['a', 'd']  \n",
      "=Degree( e ): 2\n",
      ">>> Degree Centrality of  e  is  0.5 \n",
      "\n"
     ]
    }
   ],
   "source": [
    "Degree_Centrality(T) "
   ]
  },
  {
   "cell_type": "code",
   "execution_count": 9,
   "id": "c8d14bd9",
   "metadata": {},
   "outputs": [],
   "source": [
    "def Betweness_Centrality(X):\n",
    "    sp = dict(nx.all_pairs_shortest_path(X))\n",
    "    listx = []\n",
    "    listy = []\n",
    "    temp_list=[]\n",
    "    v = len(X.nodes())\n",
    "    den = ((v-1)*(v-2))/2\n",
    "\n",
    "    for i in sp:\n",
    "        for j in sp[i]:\n",
    "            if i==j:\n",
    "                continue\n",
    "            elif set([i,j]) in listx:\n",
    "                continue\n",
    "            else:\n",
    "                if i in temp_list:\n",
    "                    tot = tot+1\n",
    "                print(\"Shortest Path between\", i, \"and\", j, \"is\", sp[i][j])\n",
    "\n",
    "    #             if len(sp[i][j])>2:\n",
    "    #                 listy.append(sp[i][j])\n",
    "                if set([i,j]) not in listx:\n",
    "                    listx.append(set([i,j]))\n",
    "    #             print(listx)\n",
    "            temp_list=sp[i][j]\n",
    "            temp_list.pop(0)\n",
    "            temp_list.pop(-1)\n",
    "            listy.extend(temp_list)\n",
    "    #         print(temp_list)\n",
    "    tot = 0\n",
    "    for i in sp:\n",
    "        print(\">>>Betweness Centrality of\",i,\"is\",listy.count(i)/den)\n",
    "\n",
    "            "
   ]
  },
  {
   "cell_type": "code",
   "execution_count": 10,
   "id": "84ebc205",
   "metadata": {},
   "outputs": [
    {
     "name": "stdout",
     "output_type": "stream",
     "text": [
      "Shortest Path between a and b is ['a', 'b']\n",
      "Shortest Path between a and d is ['a', 'd']\n",
      "Shortest Path between a and c is ['a', 'c']\n",
      "Shortest Path between a and e is ['a', 'e']\n",
      "Shortest Path between b and c is ['b', 'c']\n",
      "Shortest Path between b and d is ['b', 'a', 'd']\n",
      "Shortest Path between b and e is ['b', 'a', 'e']\n",
      "Shortest Path between c and d is ['c', 'a', 'd']\n",
      "Shortest Path between c and e is ['c', 'a', 'e']\n",
      "Shortest Path between d and e is ['d', 'e']\n",
      ">>>Betweness Centrality of a is 0.6666666666666666\n",
      ">>>Betweness Centrality of b is 0.0\n",
      ">>>Betweness Centrality of c is 0.0\n",
      ">>>Betweness Centrality of d is 0.0\n",
      ">>>Betweness Centrality of e is 0.0\n"
     ]
    }
   ],
   "source": [
    "Betweness_Centrality(T)"
   ]
  },
  {
   "cell_type": "code",
   "execution_count": 11,
   "id": "5a27f745",
   "metadata": {},
   "outputs": [],
   "source": [
    "def Closeness_Centrality(X):\n",
    "    spl = dict(nx.all_pairs_shortest_path_length(X))\n",
    "    num = len(X.nodes())-1\n",
    "    for i in spl:\n",
    "        tot_dist = 0\n",
    "        for j in spl[i]:\n",
    "            tot_dist = tot_dist + spl[i][j]\n",
    "            print(\"Distance between \",i,\" and\",j,\"is\",spl[i][j])\n",
    "        print(\"=Total Distance of \",i,\"is\",tot_dist)\n",
    "        cc = num/tot_dist\n",
    "        print(\">>>Closeness Centrality of\",i,\"is\",cc,\"\\n\")"
   ]
  },
  {
   "cell_type": "code",
   "execution_count": 12,
   "id": "185b03a1",
   "metadata": {},
   "outputs": [
    {
     "name": "stdout",
     "output_type": "stream",
     "text": [
      "Distance between  a  and a is 0\n",
      "Distance between  a  and c is 1\n",
      "Distance between  a  and d is 1\n",
      "Distance between  a  and b is 1\n",
      "Distance between  a  and e is 1\n",
      "=Total Distance of  a is 4\n",
      ">>>Closeness Centrality of a is 1.0 \n",
      "\n",
      "Distance between  b  and b is 0\n",
      "Distance between  b  and c is 1\n",
      "Distance between  b  and a is 1\n",
      "Distance between  b  and d is 2\n",
      "Distance between  b  and e is 2\n",
      "=Total Distance of  b is 6\n",
      ">>>Closeness Centrality of b is 0.6666666666666666 \n",
      "\n",
      "Distance between  c  and c is 0\n",
      "Distance between  c  and a is 1\n",
      "Distance between  c  and b is 1\n",
      "Distance between  c  and d is 2\n",
      "Distance between  c  and e is 2\n",
      "=Total Distance of  c is 6\n",
      ">>>Closeness Centrality of c is 0.6666666666666666 \n",
      "\n",
      "Distance between  d  and d is 0\n",
      "Distance between  d  and a is 1\n",
      "Distance between  d  and e is 1\n",
      "Distance between  d  and b is 2\n",
      "Distance between  d  and c is 2\n",
      "=Total Distance of  d is 6\n",
      ">>>Closeness Centrality of d is 0.6666666666666666 \n",
      "\n",
      "Distance between  e  and e is 0\n",
      "Distance between  e  and d is 1\n",
      "Distance between  e  and a is 1\n",
      "Distance between  e  and b is 2\n",
      "Distance between  e  and c is 2\n",
      "=Total Distance of  e is 6\n",
      ">>>Closeness Centrality of e is 0.6666666666666666 \n",
      "\n"
     ]
    }
   ],
   "source": [
    "Closeness_Centrality(T)"
   ]
  },
  {
   "cell_type": "code",
   "execution_count": 13,
   "id": "65970b31",
   "metadata": {},
   "outputs": [],
   "source": [
    "def draw():\n",
    "    Z = nx.Graph()\n",
    "    nodes = []\n",
    "    n = int(input(\"Enter Number of Nodes: \"))\n",
    "    for i in range(0,n):\n",
    "        ele = input(\"Enter Nodes:\")\n",
    "        nodes.append(ele)\n",
    "    Z.add_nodes_from(nodes)\n",
    "    edges = []\n",
    "    m = int(input(\"Enter Number of Edges: \"))\n",
    "    for j in range(0,m):\n",
    "        inp = input(\"Enter Edges: \")\n",
    "        check = inp.split()\n",
    "        if check[0] not in nodes:\n",
    "            print(\"Sorry \"+check[0]+\" is not in list of nodes.\")\n",
    "            break\n",
    "        if check[1] not in nodes:\n",
    "            print(\"Sorry \"+check[0]+\" is not in list of nodes.\")\n",
    "            break\n",
    "        edges.append(tuple(inp.split()))\n",
    "    Z.add_edges_from(edges)\n",
    "\n",
    "    print(nx.info(Z))\n",
    "    ans = input(\"Draw The Graph As: \\n A. Circular \\n B. Random \\n C. Spectral \\n D. Spring \\n E. Shell \\n\" )\n",
    "    \n",
    "#     valid = [\"A\",\"a\",\"B\",\"b\",\"C\",\"c\",\"D\",\"d\",\"E\",\"e\"]\n",
    "    \n",
    "    while (True):\n",
    "        print(ans)\n",
    "        if (ans == \"A\" or ans ==\"a\"):\n",
    "            nx.draw_circular(Z,with_labels=True,node_color=\"red\")\n",
    "            break\n",
    "        elif (ans == \"B\" or ans == \"b\"):\n",
    "            nx.draw_random(Z,with_labels=True)\n",
    "            break\n",
    "        elif (ans == \"C\" or ans == \"c\"):\n",
    "            nx.draw_spectral(Z,with_labels=True)\n",
    "            break\n",
    "        elif (ans == \"D\" or ans == \"d\"):\n",
    "            nx.draw_spring(Z,with_labels=True)\n",
    "            break\n",
    "        elif (ans == \"E\" or ans == \"e\"):\n",
    "            nx.draw_shell(Z,with_labels=True)\n",
    "            break\n",
    "        else:\n",
    "            print(\"Invalid Input\")\n",
    "    "
   ]
  },
  {
   "cell_type": "code",
   "execution_count": null,
   "id": "51d3565f",
   "metadata": {},
   "outputs": [],
   "source": []
  }
 ],
 "metadata": {
  "kernelspec": {
   "display_name": "Python 3",
   "language": "python",
   "name": "python3"
  },
  "language_info": {
   "codemirror_mode": {
    "name": "ipython",
    "version": 3
   },
   "file_extension": ".py",
   "mimetype": "text/x-python",
   "name": "python",
   "nbconvert_exporter": "python",
   "pygments_lexer": "ipython3",
   "version": "3.8.8"
  }
 },
 "nbformat": 4,
 "nbformat_minor": 5
}
