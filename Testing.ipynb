{
 "cells": [
  {
   "cell_type": "code",
   "execution_count": 2,
   "id": "c5b4a114",
   "metadata": {},
   "outputs": [],
   "source": [
    "import networkx as nx"
   ]
  },
  {
   "cell_type": "code",
   "execution_count": 3,
   "id": "148e7863",
   "metadata": {},
   "outputs": [],
   "source": [
    "G = nx.Graph()"
   ]
  },
  {
   "cell_type": "code",
   "execution_count": 4,
   "id": "1b950211",
   "metadata": {},
   "outputs": [
    {
     "data": {
      "text/plain": [
       "'Name: \\nType: Graph\\nNumber of nodes: 0\\nNumber of edges: 0\\n'"
      ]
     },
     "execution_count": 4,
     "metadata": {},
     "output_type": "execute_result"
    }
   ],
   "source": [
    "nx.info(G)"
   ]
  },
  {
   "cell_type": "code",
   "execution_count": 5,
   "id": "2bd0cbef",
   "metadata": {},
   "outputs": [
    {
     "name": "stdout",
     "output_type": "stream",
     "text": [
      "Name: \n",
      "Type: Graph\n",
      "Number of nodes: 0\n",
      "Number of edges: 0\n",
      "\n"
     ]
    }
   ],
   "source": [
    "print(nx.info(G))"
   ]
  },
  {
   "cell_type": "code",
   "execution_count": 6,
   "id": "c4ece584",
   "metadata": {},
   "outputs": [
    {
     "data": {
      "text/plain": [
       "NodeView(())"
      ]
     },
     "execution_count": 6,
     "metadata": {},
     "output_type": "execute_result"
    }
   ],
   "source": [
    "G.nodes()"
   ]
  },
  {
   "cell_type": "code",
   "execution_count": 7,
   "id": "e31ec5c7",
   "metadata": {},
   "outputs": [
    {
     "name": "stdout",
     "output_type": "stream",
     "text": [
      "[]\n"
     ]
    }
   ],
   "source": [
    "print(G.nodes())"
   ]
  },
  {
   "cell_type": "code",
   "execution_count": 8,
   "id": "08206761",
   "metadata": {},
   "outputs": [
    {
     "data": {
      "text/plain": [
       "EdgeView([])"
      ]
     },
     "execution_count": 8,
     "metadata": {},
     "output_type": "execute_result"
    }
   ],
   "source": [
    "G.edges()"
   ]
  },
  {
   "cell_type": "code",
   "execution_count": 9,
   "id": "ba2f3f4f",
   "metadata": {},
   "outputs": [
    {
     "name": "stdout",
     "output_type": "stream",
     "text": [
      "[]\n"
     ]
    }
   ],
   "source": [
    "print(G.edges())"
   ]
  },
  {
   "cell_type": "code",
   "execution_count": 10,
   "id": "2dd29267",
   "metadata": {},
   "outputs": [
    {
     "name": "stdout",
     "output_type": "stream",
     "text": [
      "<class 'networkx.classes.reportviews.NodeView'>\n"
     ]
    }
   ],
   "source": [
    "print(type(G.nodes()))"
   ]
  },
  {
   "cell_type": "code",
   "execution_count": 11,
   "id": "4f0a376f",
   "metadata": {},
   "outputs": [
    {
     "name": "stdout",
     "output_type": "stream",
     "text": [
      "<class 'networkx.classes.reportviews.EdgeView'>\n"
     ]
    }
   ],
   "source": [
    "print(type(G.edges()))"
   ]
  },
  {
   "cell_type": "code",
   "execution_count": 12,
   "id": "ed3763f2",
   "metadata": {},
   "outputs": [],
   "source": [
    "G.add_node(\"a\")"
   ]
  },
  {
   "cell_type": "code",
   "execution_count": 13,
   "id": "7181048c",
   "metadata": {},
   "outputs": [],
   "source": [
    "G.add_nodes_from([\"b\",\"c\",\"d\"])"
   ]
  },
  {
   "cell_type": "code",
   "execution_count": 14,
   "id": "51d24b7d",
   "metadata": {},
   "outputs": [],
   "source": [
    "G.add_edge(\"a\",\"b\")"
   ]
  },
  {
   "cell_type": "code",
   "execution_count": 15,
   "id": "3d8ac56f",
   "metadata": {},
   "outputs": [],
   "source": [
    "edges = [(\"b\",\"c\"),(\"c\",\"d\"),(\"d\",\"a\")]"
   ]
  },
  {
   "cell_type": "code",
   "execution_count": 16,
   "id": "66d82b56",
   "metadata": {},
   "outputs": [],
   "source": [
    "G.add_edges_from(edges)"
   ]
  },
  {
   "cell_type": "code",
   "execution_count": 17,
   "id": "91553ce2",
   "metadata": {},
   "outputs": [
    {
     "data": {
      "image/png": "[encoded data removed]",
      "text/plain": [
       "<Figure size 432x288 with 1 Axes>"
      ]
     },
     "metadata": {},
     "output_type": "display_data"
    }
   ],
   "source": [
    "nx.draw(G)"
   ]
  },
  {
   "cell_type": "code",
   "execution_count": 18,
   "id": "620da14b",
   "metadata": {},
   "outputs": [],
   "source": [
    "options = {\n",
    "    'with_labels':True,\n",
    "    'font_weight':'bold',\n",
    "    'node_color':'green',\n",
    "    'edge_color':'red',\n",
    "    'node_size':500,\n",
    "    'width':3\n",
    "}"
   ]
  },
  {
   "cell_type": "code",
   "execution_count": 19,
   "id": "e13e84d4",
   "metadata": {},
   "outputs": [
    {
     "data": {
      "image/png": "[encoded data removed]",
      "text/plain": [
       "<Figure size 432x288 with 1 Axes>"
      ]
     },
     "metadata": {},
     "output_type": "display_data"
    }
   ],
   "source": [
    "nx.draw(G,**options)"
   ]
  },
  {
   "cell_type": "code",
   "execution_count": 20,
   "id": "deb21306",
   "metadata": {},
   "outputs": [
    {
     "data": {
      "image/png": "[encoded data removed]",
      "text/plain": [
       "<Figure size 432x288 with 1 Axes>"
      ]
     },
     "metadata": {},
     "output_type": "display_data"
    }
   ],
   "source": [
    "nx.draw_circular(G,**options)"
   ]
  },
  {
   "cell_type": "code",
   "execution_count": 21,
   "id": "c7a018d0",
   "metadata": {},
   "outputs": [
    {
     "data": {
      "image/png": "[encoded data removed]",
      "text/plain": [
       "<Figure size 432x288 with 1 Axes>"
      ]
     },
     "metadata": {},
     "output_type": "display_data"
    }
   ],
   "source": [
    "nx.draw_spectral(G,**options)"
   ]
  },
  {
   "cell_type": "code",
   "execution_count": 22,
   "id": "509725de",
   "metadata": {},
   "outputs": [
    {
     "data": {
      "image/png": "[encoded data removed]",
      "text/plain": [
       "<Figure size 432x288 with 1 Axes>"
      ]
     },
     "metadata": {},
     "output_type": "display_data"
    }
   ],
   "source": [
    "nx.draw_spring(G,**options)"
   ]
  },
  {
   "cell_type": "code",
   "execution_count": 23,
   "id": "1d857a34",
   "metadata": {},
   "outputs": [
    {
     "data": {
      "image/png": "[encoded data removed]",
      "text/plain": [
       "<Figure size 432x288 with 1 Axes>"
      ]
     },
     "metadata": {},
     "output_type": "display_data"
    }
   ],
   "source": [
    "nx.draw_shell(G,**options)"
   ]
  },
  {
   "cell_type": "code",
   "execution_count": 24,
   "id": "eb5bf5e4",
   "metadata": {},
   "outputs": [
    {
     "data": {
      "text/plain": [
       "4"
      ]
     },
     "execution_count": 24,
     "metadata": {},
     "output_type": "execute_result"
    }
   ],
   "source": [
    "G.number_of_nodes()"
   ]
  },
  {
   "cell_type": "code",
   "execution_count": 25,
   "id": "85ca5faf",
   "metadata": {},
   "outputs": [
    {
     "data": {
      "text/plain": [
       "4"
      ]
     },
     "execution_count": 25,
     "metadata": {},
     "output_type": "execute_result"
    }
   ],
   "source": [
    "len(G)"
   ]
  },
  {
   "cell_type": "code",
   "execution_count": 26,
   "id": "4c7b9a4c",
   "metadata": {},
   "outputs": [
    {
     "data": {
      "text/plain": [
       "4"
      ]
     },
     "execution_count": 26,
     "metadata": {},
     "output_type": "execute_result"
    }
   ],
   "source": [
    "G.order()"
   ]
  },
  {
   "cell_type": "code",
   "execution_count": 27,
   "id": "3a524ffc",
   "metadata": {},
   "outputs": [
    {
     "data": {
      "text/plain": [
       "4"
      ]
     },
     "execution_count": 27,
     "metadata": {},
     "output_type": "execute_result"
    }
   ],
   "source": [
    "G.number_of_edges()"
   ]
  },
  {
   "cell_type": "code",
   "execution_count": 28,
   "id": "d8a2fadd",
   "metadata": {},
   "outputs": [
    {
     "data": {
      "text/plain": [
       "False"
      ]
     },
     "execution_count": 28,
     "metadata": {},
     "output_type": "execute_result"
    }
   ],
   "source": [
    "G.has_node(1)"
   ]
  },
  {
   "cell_type": "code",
   "execution_count": 29,
   "id": "a0aefbec",
   "metadata": {},
   "outputs": [
    {
     "data": {
      "text/plain": [
       "True"
      ]
     },
     "execution_count": 29,
     "metadata": {},
     "output_type": "execute_result"
    }
   ],
   "source": [
    "G.has_node(\"a\")"
   ]
  },
  {
   "cell_type": "code",
   "execution_count": 30,
   "id": "1446d240",
   "metadata": {},
   "outputs": [
    {
     "data": {
      "text/plain": [
       "True"
      ]
     },
     "execution_count": 30,
     "metadata": {},
     "output_type": "execute_result"
    }
   ],
   "source": [
    "G.has_edge(\"a\",\"b\")"
   ]
  },
  {
   "cell_type": "code",
   "execution_count": 31,
   "id": "1b6483fd",
   "metadata": {},
   "outputs": [
    {
     "data": {
      "text/plain": [
       "['b', 'd']"
      ]
     },
     "execution_count": 31,
     "metadata": {},
     "output_type": "execute_result"
    }
   ],
   "source": [
    "list(G.neighbors(\"a\"))"
   ]
  },
  {
   "cell_type": "code",
   "execution_count": 32,
   "id": "61a28140",
   "metadata": {},
   "outputs": [
    {
     "data": {
      "text/plain": [
       "2"
      ]
     },
     "execution_count": 32,
     "metadata": {},
     "output_type": "execute_result"
    }
   ],
   "source": [
    "G.degree(\"a\")"
   ]
  },
  {
   "cell_type": "code",
   "execution_count": 33,
   "id": "29a1d337",
   "metadata": {},
   "outputs": [
    {
     "name": "stdout",
     "output_type": "stream",
     "text": [
      "[('a', 2), ('b', 2), ('c', 2), ('d', 2)]\n"
     ]
    }
   ],
   "source": [
    "print(G.degree())"
   ]
  },
  {
   "cell_type": "code",
   "execution_count": 34,
   "id": "56fb2244",
   "metadata": {},
   "outputs": [
    {
     "data": {
      "text/plain": [
       "2"
      ]
     },
     "execution_count": 34,
     "metadata": {},
     "output_type": "execute_result"
    }
   ],
   "source": [
    "G.degree(\"a\",\"c\")"
   ]
  },
  {
   "cell_type": "code",
   "execution_count": 35,
   "id": "9b984b5c",
   "metadata": {},
   "outputs": [
    {
     "data": {
      "text/plain": [
       "['b', 'c', 'd']"
      ]
     },
     "execution_count": 35,
     "metadata": {},
     "output_type": "execute_result"
    }
   ],
   "source": [
    "nx.shortest_path(G,\"b\",\"d\")"
   ]
  },
  {
   "cell_type": "code",
   "execution_count": 36,
   "id": "06296dcf",
   "metadata": {},
   "outputs": [
    {
     "data": {
      "text/plain": [
       "2"
      ]
     },
     "execution_count": 36,
     "metadata": {},
     "output_type": "execute_result"
    }
   ],
   "source": [
    "nx.diameter(G)"
   ]
  },
  {
   "cell_type": "code",
   "execution_count": 37,
   "id": "4a26f505",
   "metadata": {},
   "outputs": [],
   "source": [
    "H = nx.complete_graph(300)"
   ]
  },
  {
   "cell_type": "code",
   "execution_count": 65,
   "id": "40d39920",
   "metadata": {},
   "outputs": [
    {
     "data": {
      "image/png": "[encoded data removed]",
      "text/plain": [
       "<Figure size 432x288 with 1 Axes>"
      ]
     },
     "metadata": {},
     "output_type": "display_data"
    }
   ],
   "source": [
    "nx.draw_shell(H,**options)"
   ]
  },
  {
   "cell_type": "code",
   "execution_count": 44,
   "id": "d13fe5fc",
   "metadata": {},
   "outputs": [],
   "source": [
    "def diameter(X):\n",
    "    max = 0\n",
    "    listx = X.nodes()\n",
    "    for i in listx:\n",
    "        for j in listx:\n",
    "            temp = len(nx.shortest_path(X,i,j))\n",
    "            if temp > max:\n",
    "                max = temp\n",
    "    dim = max-1\n",
    "    print(dim)"
   ]
  },
  {
   "cell_type": "code",
   "execution_count": 45,
   "id": "a868bcc7",
   "metadata": {},
   "outputs": [
    {
     "name": "stdout",
     "output_type": "stream",
     "text": [
      "5\n"
     ]
    }
   ],
   "source": [
    "diameter(Y)"
   ]
  },
  {
   "cell_type": "code",
   "execution_count": 40,
   "id": "6b1e0534",
   "metadata": {},
   "outputs": [],
   "source": [
    "Y = nx.Graph()"
   ]
  },
  {
   "cell_type": "code",
   "execution_count": 41,
   "id": "f9292a81",
   "metadata": {},
   "outputs": [],
   "source": [
    "Y.add_nodes_from([1,2,3,4,5,6])"
   ]
  },
  {
   "cell_type": "code",
   "execution_count": 42,
   "id": "e5193c20",
   "metadata": {},
   "outputs": [],
   "source": [
    "Y.add_edges_from([(1,2),(2,3),(3,4),(4,5),(5,6)])"
   ]
  },
  {
   "cell_type": "code",
   "execution_count": 46,
   "id": "e4d0d428",
   "metadata": {},
   "outputs": [
    {
     "data": {
      "image/png": "[encoded data removed]",
      "text/plain": [
       "<Figure size 432x288 with 1 Axes>"
      ]
     },
     "metadata": {},
     "output_type": "display_data"
    }
   ],
   "source": [
    "nx.draw(Y,with_labels=True)"
   ]
  },
  {
   "cell_type": "code",
   "execution_count": 47,
   "id": "a53085ab",
   "metadata": {},
   "outputs": [],
   "source": [
    "def draw():\n",
    "    Z = nx.Graph()\n",
    "    nodes = []\n",
    "    n = int(input(\"Enter Number of Nodes: \"))\n",
    "    for i in range(0,n):\n",
    "        ele = input(\"Enter Nodes:\")\n",
    "        nodes.append(ele)\n",
    "    Z.add_nodes_from(nodes)\n",
    "    edges = []\n",
    "    m = int(input(\"Enter Number of Edges: \"))\n",
    "    for j in range(0,m):\n",
    "        inp = input(\"Enter Edges: \")\n",
    "        check = inp.split()\n",
    "        if check[0] not in nodes:\n",
    "            print(\"Sorry \"+check[0]+\" is not in list of nodes.\")\n",
    "            break\n",
    "        if check[1] not in nodes:\n",
    "            print(\"Sorry \"+check[0]+\" is not in list of nodes.\")\n",
    "            break\n",
    "        edges.append(tuple(inp.split()))\n",
    "    Z.add_edges_from(edges)\n",
    "\n",
    "    print(nx.info(Z))\n",
    "    ans = input(\"Draw The Graph As: \\n A. Circular \\n B. Random \\n C. Spectral \\n D. Spring \\n E. Shell \\n\" )\n",
    "    \n",
    "#     valid = [\"A\",\"a\",\"B\",\"b\",\"C\",\"c\",\"D\",\"d\",\"E\",\"e\"]\n",
    "    \n",
    "    while (True):\n",
    "        print(ans)\n",
    "        if (ans == \"A\" or ans ==\"a\"):\n",
    "            nx.draw_circular(Z,with_labels=True,node_color=\"red\")\n",
    "            break\n",
    "        elif (ans == \"B\" or ans == \"b\"):\n",
    "            nx.draw_random(Z,with_labels=True)\n",
    "            break\n",
    "        elif (ans == \"C\" or ans == \"c\"):\n",
    "            nx.draw_spectral(Z,with_labels=True)\n",
    "            break\n",
    "        elif (ans == \"D\" or ans == \"d\"):\n",
    "            nx.draw_spring(Z,with_labels=True)\n",
    "            break\n",
    "        elif (ans == \"E\" or ans == \"e\"):\n",
    "            nx.draw_shell(Z,with_labels=True)\n",
    "            break\n",
    "        else:\n",
    "            print(\"Invalid Input\")\n",
    "    "
   ]
  },
  {
   "cell_type": "code",
   "execution_count": 141,
   "id": "5d493430",
   "metadata": {},
   "outputs": [
    {
     "name": "stdout",
     "output_type": "stream",
     "text": [
      "Enter Number of Nodes: 2\n",
      "Enter Nodes:1\n",
      "Enter Nodes:2\n",
      "Enter Number of Edges: 0\n",
      "Name: \n",
      "Type: Graph\n",
      "Number of nodes: 2\n",
      "Number of edges: 0\n",
      "Average degree:   0.0000\n",
      "Draw The Graph As: \n",
      " A. Circular \n",
      " B. Random \n",
      " C. Spectral \n",
      " D. Spring \n",
      " E. Shell \n",
      "b\n",
      "b\n"
     ]
    },
    {
     "data": {
      "image/png": "[encoded data removed]",
      "text/plain": [
       "<Figure size 432x288 with 1 Axes>"
      ]
     },
     "metadata": {},
     "output_type": "display_data"
    }
   ],
   "source": [
    "draw()"
   ]
  },
  {
   "cell_type": "code",
   "execution_count": 48,
   "id": "ae0e3dac",
   "metadata": {},
   "outputs": [],
   "source": [
    "sp = dict(nx.all_pairs_shortest_path(G))"
   ]
  },
  {
   "cell_type": "code",
   "execution_count": 50,
   "id": "6c8bc13b",
   "metadata": {},
   "outputs": [
    {
     "data": {
      "image/png": "[encoded data removed]",
      "text/plain": [
       "<Figure size 432x288 with 1 Axes>"
      ]
     },
     "metadata": {},
     "output_type": "display_data"
    }
   ],
   "source": [
    "nx.draw(G,with_labels=True)"
   ]
  },
  {
   "cell_type": "code",
   "execution_count": 51,
   "id": "7ef571cc",
   "metadata": {},
   "outputs": [
    {
     "data": {
      "text/plain": [
       "['a', 'b', 'c']"
      ]
     },
     "execution_count": 51,
     "metadata": {},
     "output_type": "execute_result"
    }
   ],
   "source": [
    "sp[\"a\"][\"c\"]"
   ]
  },
  {
   "cell_type": "code",
   "execution_count": 54,
   "id": "93a81432",
   "metadata": {},
   "outputs": [],
   "source": [
    "spl = dict(nx.all_pairs_shortest_path_length(G))"
   ]
  },
  {
   "cell_type": "code",
   "execution_count": 55,
   "id": "b0ac2cde",
   "metadata": {},
   "outputs": [
    {
     "data": {
      "text/plain": [
       "2"
      ]
     },
     "execution_count": 55,
     "metadata": {},
     "output_type": "execute_result"
    }
   ],
   "source": [
    "spl[\"a\"][\"c\"]"
   ]
  },
  {
   "cell_type": "code",
   "execution_count": 64,
   "id": "7032bf0d",
   "metadata": {},
   "outputs": [
    {
     "name": "stdout",
     "output_type": "stream",
     "text": [
      "Length between a and a is 0\n",
      "Length between a and b is 1\n",
      "Length between a and d is 1\n",
      "Length between a and c is 2\n",
      "Length between b and b is 0\n",
      "Length between b and c is 1\n",
      "Length between b and a is 1\n",
      "Length between b and d is 2\n",
      "Length between c and c is 0\n",
      "Length between c and b is 1\n",
      "Length between c and d is 1\n",
      "Length between c and a is 2\n",
      "Length between d and d is 0\n",
      "Length between d and c is 1\n",
      "Length between d and a is 1\n",
      "Length between d and b is 2\n"
     ]
    }
   ],
   "source": [
    "for node1 in spl:\n",
    "    for node2 in spl[node1]:\n",
    "        print(\"Length between\", node1, \"and\", node2, \"is\", spl[node1][node2])"
   ]
  },
  {
   "cell_type": "code",
   "execution_count": 62,
   "id": "4742a7f6",
   "metadata": {},
   "outputs": [
    {
     "data": {
      "text/plain": [
       "{'a': {'a': 0, 'b': 1, 'd': 1, 'c': 2},\n",
       " 'b': {'b': 0, 'c': 1, 'a': 1, 'd': 2},\n",
       " 'c': {'c': 0, 'b': 1, 'd': 1, 'a': 2},\n",
       " 'd': {'d': 0, 'c': 1, 'a': 1, 'b': 2}}"
      ]
     },
     "execution_count": 62,
     "metadata": {},
     "output_type": "execute_result"
    }
   ],
   "source": [
    "spl"
   ]
  },
  {
   "cell_type": "code",
   "execution_count": 63,
   "id": "aaa3e2c1",
   "metadata": {},
   "outputs": [
    {
     "data": {
      "text/plain": [
       "{'a': 0, 'b': 1, 'd': 1, 'c': 2}"
      ]
     },
     "execution_count": 63,
     "metadata": {},
     "output_type": "execute_result"
    }
   ],
   "source": [
    "spl[\"a\"]"
   ]
  },
  {
   "cell_type": "code",
   "execution_count": 67,
   "id": "30e00d4e",
   "metadata": {},
   "outputs": [
    {
     "name": "stdout",
     "output_type": "stream",
     "text": [
      "Distance between a and a is 0\n",
      "Distance between a and b is 1\n",
      "Distance between a and d is 1\n",
      "Distance between a and c is 2\n"
     ]
    }
   ],
   "source": [
    "for i in spl[\"a\"]:\n",
    "    print(\"Distance between a and\",i,\"is\",spl[\"a\"][i])"
   ]
  },
  {
   "cell_type": "code",
   "execution_count": 68,
   "id": "b3e8a085",
   "metadata": {},
   "outputs": [
    {
     "name": "stdout",
     "output_type": "stream",
     "text": [
      "Total Distance of A:  4\n"
     ]
    }
   ],
   "source": [
    "tot_dist = 0\n",
    "for i in spl[\"a\"]:\n",
    "    tot_dist = tot_dist + spl[\"a\"][i]\n",
    "print(\"Total Distance of A: \",tot_dist)\n",
    "    "
   ]
  },
  {
   "cell_type": "code",
   "execution_count": 74,
   "id": "89a60138",
   "metadata": {},
   "outputs": [],
   "source": [
    "T = nx.Graph()"
   ]
  },
  {
   "cell_type": "code",
   "execution_count": 75,
   "id": "1676c3b5",
   "metadata": {},
   "outputs": [],
   "source": [
    "T.add_nodes_from(['a','b','c','d','e'])"
   ]
  },
  {
   "cell_type": "code",
   "execution_count": 76,
   "id": "53d4165c",
   "metadata": {},
   "outputs": [],
   "source": [
    "T.add_edges_from([('a','b'),('a','d'),('a','c'),('a','e'),('b','c'),('d','e')])"
   ]
  },
  {
   "cell_type": "code",
   "execution_count": 78,
   "id": "bc5cb83f",
   "metadata": {},
   "outputs": [
    {
     "data": {
      "image/png": "[encoded data removed]",
      "text/plain": [
       "<Figure size 432x288 with 1 Axes>"
      ]
     },
     "metadata": {},
     "output_type": "display_data"
    }
   ],
   "source": [
    "nx.draw(T,with_labels=True)"
   ]
  },
  {
   "cell_type": "code",
   "execution_count": 80,
   "id": "dba8b20f",
   "metadata": {},
   "outputs": [],
   "source": [
    "sp = dict(nx.all_pairs_shortest_path(T))"
   ]
  },
  {
   "cell_type": "code",
   "execution_count": 156,
   "id": "48bdd365",
   "metadata": {},
   "outputs": [],
   "source": [
    "def Betweness_Centrality(X):\n",
    "    sp = dict(nx.all_pairs_shortest_path(X))\n",
    "    listx = []\n",
    "    listy = []\n",
    "    temp_list=[]\n",
    "    v = len(X.nodes())\n",
    "    den = ((v-1)*(v-2))/2\n",
    "\n",
    "    for i in sp:\n",
    "        for j in sp[i]:\n",
    "            if i==j:\n",
    "                continue\n",
    "            elif set([i,j]) in listx:\n",
    "                continue\n",
    "            else:\n",
    "                if i in temp_list:\n",
    "                    tot = tot+1\n",
    "                print(\"Shortest Path between\", i, \"and\", j, \"is\", sp[i][j])\n",
    "\n",
    "    #             if len(sp[i][j])>2:\n",
    "    #                 listy.append(sp[i][j])\n",
    "                if set([i,j]) not in listx:\n",
    "                    listx.append(set([i,j]))\n",
    "    #             print(listx)\n",
    "            temp_list=sp[i][j]\n",
    "            temp_list.pop(0)\n",
    "            temp_list.pop(-1)\n",
    "            listy.extend(temp_list)\n",
    "    #         print(temp_list)\n",
    "    tot = 0\n",
    "    for i in sp:\n",
    "        print(\">>>Betweness Centrality of\",i,\"is\",listy.count(i)/den)\n",
    "\n",
    "            "
   ]
  },
  {
   "cell_type": "code",
   "execution_count": 157,
   "id": "59b785fa",
   "metadata": {},
   "outputs": [
    {
     "name": "stdout",
     "output_type": "stream",
     "text": [
      "Shortest Path between a and b is ['a', 'b']\n",
      "Shortest Path between a and d is ['a', 'd']\n",
      "Shortest Path between a and c is ['a', 'c']\n",
      "Shortest Path between a and e is ['a', 'e']\n",
      "Shortest Path between b and c is ['b', 'c']\n",
      "Shortest Path between b and d is ['b', 'a', 'd']\n",
      "Shortest Path between b and e is ['b', 'a', 'e']\n",
      "Shortest Path between c and d is ['c', 'a', 'd']\n",
      "Shortest Path between c and e is ['c', 'a', 'e']\n",
      "Shortest Path between d and e is ['d', 'e']\n",
      ">>>Betweness Centrality of a is 0.6666666666666666\n",
      ">>>Betweness Centrality of b is 0.0\n",
      ">>>Betweness Centrality of c is 0.0\n",
      ">>>Betweness Centrality of d is 0.0\n",
      ">>>Betweness Centrality of e is 0.0\n"
     ]
    }
   ],
   "source": [
    "Betweness_Centrality(T)"
   ]
  },
  {
   "cell_type": "code",
   "execution_count": 124,
   "id": "bbc9a7ab",
   "metadata": {},
   "outputs": [],
   "source": [
    "def Degree_Centrality(X):\n",
    "    listx = X.nodes()\n",
    "    den = len(listx)-1\n",
    "    for i in listx:\n",
    "        print('Neighbors of ',i,' are ',list(X.neighbors(i)),' \\n=Degree(',i,'):',X.degree(i))\n",
    "        dc = X.degree(i)/den\n",
    "        print('>>> Degree Centrality of ',i,' is ',dc,'\\n')"
   ]
  },
  {
   "cell_type": "code",
   "execution_count": 125,
   "id": "3b136d7f",
   "metadata": {},
   "outputs": [
    {
     "name": "stdout",
     "output_type": "stream",
     "text": [
      "Neighbors of  a  are  ['b', 'd', 'c', 'e']  \n",
      "=Degree( a ): 4\n",
      ">>> Degree Centrality of  a  is  1.0 \n",
      "\n",
      "Neighbors of  b  are  ['a', 'c']  \n",
      "=Degree( b ): 2\n",
      ">>> Degree Centrality of  b  is  0.5 \n",
      "\n",
      "Neighbors of  c  are  ['a', 'b']  \n",
      "=Degree( c ): 2\n",
      ">>> Degree Centrality of  c  is  0.5 \n",
      "\n",
      "Neighbors of  d  are  ['a', 'e']  \n",
      "=Degree( d ): 2\n",
      ">>> Degree Centrality of  d  is  0.5 \n",
      "\n",
      "Neighbors of  e  are  ['a', 'd']  \n",
      "=Degree( e ): 2\n",
      ">>> Degree Centrality of  e  is  0.5 \n",
      "\n"
     ]
    }
   ],
   "source": [
    "Degree_Centrality(T) "
   ]
  },
  {
   "cell_type": "code",
   "execution_count": 126,
   "id": "53927583",
   "metadata": {},
   "outputs": [],
   "source": [
    "def Closeness_Centrality(X):\n",
    "    spl = dict(nx.all_pairs_shortest_path_length(X))\n",
    "    num = len(X.nodes())-1\n",
    "    for i in spl:\n",
    "        tot_dist = 0\n",
    "        for j in spl[i]:\n",
    "            tot_dist = tot_dist + spl[i][j]\n",
    "            print(\"Distance between \",i,\" and\",j,\"is\",spl[i][j])\n",
    "        print(\"=Total Distance of \",i,\"is\",tot_dist)\n",
    "        cc = num/tot_dist\n",
    "        print(\">>>Closeness Centrality of\",i,\"is\",cc,\"\\n\")"
   ]
  },
  {
   "cell_type": "code",
   "execution_count": 127,
   "id": "655a7d53",
   "metadata": {},
   "outputs": [
    {
     "name": "stdout",
     "output_type": "stream",
     "text": [
      "Distance between  a  and a is 0\n",
      "Distance between  a  and c is 1\n",
      "Distance between  a  and b is 1\n",
      "Distance between  a  and e is 1\n",
      "Distance between  a  and d is 1\n",
      "=Total Distance of  a is 4\n",
      ">>>Closeness Centrality of a is 1.0 \n",
      "\n",
      "Distance between  b  and b is 0\n",
      "Distance between  b  and c is 1\n",
      "Distance between  b  and a is 1\n",
      "Distance between  b  and e is 2\n",
      "Distance between  b  and d is 2\n",
      "=Total Distance of  b is 6\n",
      ">>>Closeness Centrality of b is 0.6666666666666666 \n",
      "\n",
      "Distance between  c  and c is 0\n",
      "Distance between  c  and b is 1\n",
      "Distance between  c  and a is 1\n",
      "Distance between  c  and e is 2\n",
      "Distance between  c  and d is 2\n",
      "=Total Distance of  c is 6\n",
      ">>>Closeness Centrality of c is 0.6666666666666666 \n",
      "\n",
      "Distance between  d  and d is 0\n",
      "Distance between  d  and e is 1\n",
      "Distance between  d  and a is 1\n",
      "Distance between  d  and b is 2\n",
      "Distance between  d  and c is 2\n",
      "=Total Distance of  d is 6\n",
      ">>>Closeness Centrality of d is 0.6666666666666666 \n",
      "\n",
      "Distance between  e  and e is 0\n",
      "Distance between  e  and a is 1\n",
      "Distance between  e  and d is 1\n",
      "Distance between  e  and b is 2\n",
      "Distance between  e  and c is 2\n",
      "=Total Distance of  e is 6\n",
      ">>>Closeness Centrality of e is 0.6666666666666666 \n",
      "\n"
     ]
    }
   ],
   "source": [
    "Closeness_Centrality(T)"
   ]
  },
  {
   "cell_type": "code",
   "execution_count": null,
   "id": "7a6a777c",
   "metadata": {},
   "outputs": [],
   "source": [
    "def draw():\n",
    "    Z = nx.Graph()\n",
    "    nodes = []\n",
    "    n = int(input(\"Enter Number of Nodes: \"))\n",
    "    for i in range(0,n):\n",
    "        ele = input(\"Enter Nodes:\")\n",
    "        nodes.append(ele)\n",
    "    Z.add_nodes_from(nodes)\n",
    "    edges = []\n",
    "    m = int(input(\"Enter Number of Edges: \"))\n",
    "    for j in range(0,m):\n",
    "        inp = input(\"Enter Edges: \")\n",
    "        check = inp.split()\n",
    "        if check[0] not in nodes:\n",
    "            print(\"Sorry \"+check[0]+\" is not in list of nodes.\")\n",
    "            break\n",
    "        if check[1] not in nodes:\n",
    "            print(\"Sorry \"+check[0]+\" is not in list of nodes.\")\n",
    "            break\n",
    "        edges.append(tuple(inp.split()))\n",
    "    Z.add_edges_from(edges)\n",
    "\n",
    "    print(nx.info(Z))\n",
    "    ans = input(\"Draw The Graph As: \\n A. Circular \\n B. Random \\n C. Spectral \\n D. Spring \\n E. Shell \\n\" )\n",
    "    \n",
    "#     valid = [\"A\",\"a\",\"B\",\"b\",\"C\",\"c\",\"D\",\"d\",\"E\",\"e\"]\n",
    "    \n",
    "    while (True):\n",
    "        print(ans)\n",
    "        if (ans == \"A\" or ans ==\"a\"):\n",
    "            nx.draw_circular(Z,with_labels=True,node_color=\"red\")\n",
    "            break\n",
    "        elif (ans == \"B\" or ans == \"b\"):\n",
    "            nx.draw_random(Z,with_labels=True)\n",
    "            break\n",
    "        elif (ans == \"C\" or ans == \"c\"):\n",
    "            nx.draw_spectral(Z,with_labels=True)\n",
    "            break\n",
    "        elif (ans == \"D\" or ans == \"d\"):\n",
    "            nx.draw_spring(Z,with_labels=True)\n",
    "            break\n",
    "        elif (ans == \"E\" or ans == \"e\"):\n",
    "            nx.draw_shell(Z,with_labels=True)\n",
    "            break\n",
    "        else:\n",
    "            print(\"Invalid Input\")\n",
    "    "
   ]
  }
 ],
 "metadata": {
  "kernelspec": {
   "display_name": "Python 3",
   "language": "python",
   "name": "python3"
  },
  "language_info": {
   "codemirror_mode": {
    "name": "ipython",
    "version": 3
   },
   "file_extension": ".py",
   "mimetype": "text/x-python",
   "name": "python",
   "nbconvert_exporter": "python",
   "pygments_lexer": "ipython3",
   "version": "3.8.8"
  }
 },
 "nbformat": 4,
 "nbformat_minor": 5
}
